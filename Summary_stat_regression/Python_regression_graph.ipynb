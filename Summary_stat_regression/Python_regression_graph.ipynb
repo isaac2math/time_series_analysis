{
 "cells": [
  {
   "cell_type": "markdown",
   "metadata": {},
   "source": [
    "# #0: First thing first: always run this command to clear memory"
   ]
  },
  {
   "cell_type": "code",
   "execution_count": 1,
   "metadata": {},
   "outputs": [],
   "source": [
    "%reset -f"
   ]
  },
  {
   "cell_type": "markdown",
   "metadata": {},
   "source": [
    "# #1: import all packages we need\n",
    "\n",
    "## in this course, we only use these packages (all preinstalled in Anaconda3)\n",
    "### * numpy and scipy for math computation\n",
    "### * pandas for data manipulation\n",
    "### * matplotlib and seaborn to plot figures\n",
    "### * scikit-learn and statsmodels for statistical computation"
   ]
  },
  {
   "cell_type": "code",
   "execution_count": 2,
   "metadata": {},
   "outputs": [],
   "source": [
    "import numpy             as np\n",
    "import pandas            as pd\n",
    "import matplotlib.pyplot as plt\n",
    "import statsmodels.api   as sm\n",
    "import seaborn           as sns"
   ]
  },
  {
   "cell_type": "markdown",
   "metadata": {},
   "source": [
    "# #2: prepare data from online website with Pandas"
   ]
  },
  {
   "cell_type": "markdown",
   "metadata": {},
   "source": [
    "## #2a: load data from online website and save it as a table"
   ]
  },
  {
   "cell_type": "code",
   "execution_count": 3,
   "metadata": {},
   "outputs": [
    {
     "name": "stderr",
     "output_type": "stream",
     "text": [
      "/home/ning/anaconda3/lib/python3.7/site-packages/ipykernel_launcher.py:1: ParserWarning: Falling back to the 'python' engine because the 'c' engine does not support sep=None with delim_whitespace=False; you can avoid this warning by specifying engine='python'.\n",
      "  \"\"\"Entry point for launching an IPython kernel.\n"
     ]
    }
   ],
   "source": [
    "prostata_table = pd.read_csv('https://web.stanford.edu/~hastie/ElemStatLearn/datasets/prostate.data', sep=None)"
   ]
  },
  {
   "cell_type": "markdown",
   "metadata": {},
   "source": [
    "### Prostate data info:\n",
    "\n",
    "#### Predictors: lcavol lweight age lbph svi lcp gleason pgg45 (metrics in Medical tests)\n",
    "#### Outcome: lpsa (higher this metric, more likely prostate cancer)"
   ]
  },
  {
   "cell_type": "markdown",
   "metadata": {},
   "source": [
    "## #2b: check the table"
   ]
  },
  {
   "cell_type": "code",
   "execution_count": 4,
   "metadata": {},
   "outputs": [
    {
     "data": {
      "text/html": [
       "<div>\n",
       "<style scoped>\n",
       "    .dataframe tbody tr th:only-of-type {\n",
       "        vertical-align: middle;\n",
       "    }\n",
       "\n",
       "    .dataframe tbody tr th {\n",
       "        vertical-align: top;\n",
       "    }\n",
       "\n",
       "    .dataframe thead th {\n",
       "        text-align: right;\n",
       "    }\n",
       "</style>\n",
       "<table border=\"1\" class=\"dataframe\">\n",
       "  <thead>\n",
       "    <tr style=\"text-align: right;\">\n",
       "      <th></th>\n",
       "      <th>Unnamed: 0</th>\n",
       "      <th>lcavol</th>\n",
       "      <th>lweight</th>\n",
       "      <th>age</th>\n",
       "      <th>lbph</th>\n",
       "      <th>svi</th>\n",
       "      <th>lcp</th>\n",
       "      <th>gleason</th>\n",
       "      <th>pgg45</th>\n",
       "      <th>lpsa</th>\n",
       "      <th>train</th>\n",
       "    </tr>\n",
       "  </thead>\n",
       "  <tbody>\n",
       "    <tr>\n",
       "      <th>0</th>\n",
       "      <td>1</td>\n",
       "      <td>-0.579818</td>\n",
       "      <td>2.769459</td>\n",
       "      <td>50</td>\n",
       "      <td>-1.386294</td>\n",
       "      <td>0</td>\n",
       "      <td>-1.386294</td>\n",
       "      <td>6</td>\n",
       "      <td>0</td>\n",
       "      <td>-0.430783</td>\n",
       "      <td>T</td>\n",
       "    </tr>\n",
       "    <tr>\n",
       "      <th>1</th>\n",
       "      <td>2</td>\n",
       "      <td>-0.994252</td>\n",
       "      <td>3.319626</td>\n",
       "      <td>58</td>\n",
       "      <td>-1.386294</td>\n",
       "      <td>0</td>\n",
       "      <td>-1.386294</td>\n",
       "      <td>6</td>\n",
       "      <td>0</td>\n",
       "      <td>-0.162519</td>\n",
       "      <td>T</td>\n",
       "    </tr>\n",
       "    <tr>\n",
       "      <th>2</th>\n",
       "      <td>3</td>\n",
       "      <td>-0.510826</td>\n",
       "      <td>2.691243</td>\n",
       "      <td>74</td>\n",
       "      <td>-1.386294</td>\n",
       "      <td>0</td>\n",
       "      <td>-1.386294</td>\n",
       "      <td>7</td>\n",
       "      <td>20</td>\n",
       "      <td>-0.162519</td>\n",
       "      <td>T</td>\n",
       "    </tr>\n",
       "    <tr>\n",
       "      <th>3</th>\n",
       "      <td>4</td>\n",
       "      <td>-1.203973</td>\n",
       "      <td>3.282789</td>\n",
       "      <td>58</td>\n",
       "      <td>-1.386294</td>\n",
       "      <td>0</td>\n",
       "      <td>-1.386294</td>\n",
       "      <td>6</td>\n",
       "      <td>0</td>\n",
       "      <td>-0.162519</td>\n",
       "      <td>T</td>\n",
       "    </tr>\n",
       "    <tr>\n",
       "      <th>4</th>\n",
       "      <td>5</td>\n",
       "      <td>0.751416</td>\n",
       "      <td>3.432373</td>\n",
       "      <td>62</td>\n",
       "      <td>-1.386294</td>\n",
       "      <td>0</td>\n",
       "      <td>-1.386294</td>\n",
       "      <td>6</td>\n",
       "      <td>0</td>\n",
       "      <td>0.371564</td>\n",
       "      <td>T</td>\n",
       "    </tr>\n",
       "  </tbody>\n",
       "</table>\n",
       "</div>"
      ],
      "text/plain": [
       "   Unnamed: 0    lcavol   lweight  age      lbph  svi       lcp  gleason  \\\n",
       "0           1 -0.579818  2.769459   50 -1.386294    0 -1.386294        6   \n",
       "1           2 -0.994252  3.319626   58 -1.386294    0 -1.386294        6   \n",
       "2           3 -0.510826  2.691243   74 -1.386294    0 -1.386294        7   \n",
       "3           4 -1.203973  3.282789   58 -1.386294    0 -1.386294        6   \n",
       "4           5  0.751416  3.432373   62 -1.386294    0 -1.386294        6   \n",
       "\n",
       "   pgg45      lpsa train  \n",
       "0      0 -0.430783     T  \n",
       "1      0 -0.162519     T  \n",
       "2     20 -0.162519     T  \n",
       "3      0 -0.162519     T  \n",
       "4      0  0.371564     T  "
      ]
     },
     "execution_count": 4,
     "metadata": {},
     "output_type": "execute_result"
    }
   ],
   "source": [
    "prostata_table.head()"
   ]
  },
  {
   "cell_type": "markdown",
   "metadata": {},
   "source": [
    "## #2c: drop any variable you don't want from the table"
   ]
  },
  {
   "cell_type": "code",
   "execution_count": 5,
   "metadata": {},
   "outputs": [],
   "source": [
    "prostata_table = prostata_table.drop('Unnamed: 0',axis=1)"
   ]
  },
  {
   "cell_type": "markdown",
   "metadata": {},
   "source": [
    "## #2d: compute correlation matrix of variables"
   ]
  },
  {
   "cell_type": "code",
   "execution_count": 6,
   "metadata": {},
   "outputs": [
    {
     "data": {
      "text/html": [
       "<div>\n",
       "<style scoped>\n",
       "    .dataframe tbody tr th:only-of-type {\n",
       "        vertical-align: middle;\n",
       "    }\n",
       "\n",
       "    .dataframe tbody tr th {\n",
       "        vertical-align: top;\n",
       "    }\n",
       "\n",
       "    .dataframe thead th {\n",
       "        text-align: right;\n",
       "    }\n",
       "</style>\n",
       "<table border=\"1\" class=\"dataframe\">\n",
       "  <thead>\n",
       "    <tr style=\"text-align: right;\">\n",
       "      <th></th>\n",
       "      <th>lcavol</th>\n",
       "      <th>lweight</th>\n",
       "      <th>age</th>\n",
       "      <th>lbph</th>\n",
       "      <th>svi</th>\n",
       "      <th>lcp</th>\n",
       "      <th>gleason</th>\n",
       "      <th>pgg45</th>\n",
       "      <th>lpsa</th>\n",
       "    </tr>\n",
       "  </thead>\n",
       "  <tbody>\n",
       "    <tr>\n",
       "      <th>lcavol</th>\n",
       "      <td>1.000000</td>\n",
       "      <td>0.280521</td>\n",
       "      <td>0.225000</td>\n",
       "      <td>0.027350</td>\n",
       "      <td>0.538845</td>\n",
       "      <td>0.675310</td>\n",
       "      <td>0.432417</td>\n",
       "      <td>0.433652</td>\n",
       "      <td>0.734460</td>\n",
       "    </tr>\n",
       "    <tr>\n",
       "      <th>lweight</th>\n",
       "      <td>0.280521</td>\n",
       "      <td>1.000000</td>\n",
       "      <td>0.347969</td>\n",
       "      <td>0.442264</td>\n",
       "      <td>0.155385</td>\n",
       "      <td>0.164537</td>\n",
       "      <td>0.056882</td>\n",
       "      <td>0.107354</td>\n",
       "      <td>0.433319</td>\n",
       "    </tr>\n",
       "    <tr>\n",
       "      <th>age</th>\n",
       "      <td>0.225000</td>\n",
       "      <td>0.347969</td>\n",
       "      <td>1.000000</td>\n",
       "      <td>0.350186</td>\n",
       "      <td>0.117658</td>\n",
       "      <td>0.127668</td>\n",
       "      <td>0.268892</td>\n",
       "      <td>0.276112</td>\n",
       "      <td>0.169593</td>\n",
       "    </tr>\n",
       "    <tr>\n",
       "      <th>lbph</th>\n",
       "      <td>0.027350</td>\n",
       "      <td>0.442264</td>\n",
       "      <td>0.350186</td>\n",
       "      <td>1.000000</td>\n",
       "      <td>-0.085843</td>\n",
       "      <td>-0.006999</td>\n",
       "      <td>0.077820</td>\n",
       "      <td>0.078460</td>\n",
       "      <td>0.179809</td>\n",
       "    </tr>\n",
       "    <tr>\n",
       "      <th>svi</th>\n",
       "      <td>0.538845</td>\n",
       "      <td>0.155385</td>\n",
       "      <td>0.117658</td>\n",
       "      <td>-0.085843</td>\n",
       "      <td>1.000000</td>\n",
       "      <td>0.673111</td>\n",
       "      <td>0.320412</td>\n",
       "      <td>0.457648</td>\n",
       "      <td>0.566218</td>\n",
       "    </tr>\n",
       "    <tr>\n",
       "      <th>lcp</th>\n",
       "      <td>0.675310</td>\n",
       "      <td>0.164537</td>\n",
       "      <td>0.127668</td>\n",
       "      <td>-0.006999</td>\n",
       "      <td>0.673111</td>\n",
       "      <td>1.000000</td>\n",
       "      <td>0.514830</td>\n",
       "      <td>0.631528</td>\n",
       "      <td>0.548813</td>\n",
       "    </tr>\n",
       "    <tr>\n",
       "      <th>gleason</th>\n",
       "      <td>0.432417</td>\n",
       "      <td>0.056882</td>\n",
       "      <td>0.268892</td>\n",
       "      <td>0.077820</td>\n",
       "      <td>0.320412</td>\n",
       "      <td>0.514830</td>\n",
       "      <td>1.000000</td>\n",
       "      <td>0.751905</td>\n",
       "      <td>0.368987</td>\n",
       "    </tr>\n",
       "    <tr>\n",
       "      <th>pgg45</th>\n",
       "      <td>0.433652</td>\n",
       "      <td>0.107354</td>\n",
       "      <td>0.276112</td>\n",
       "      <td>0.078460</td>\n",
       "      <td>0.457648</td>\n",
       "      <td>0.631528</td>\n",
       "      <td>0.751905</td>\n",
       "      <td>1.000000</td>\n",
       "      <td>0.422316</td>\n",
       "    </tr>\n",
       "    <tr>\n",
       "      <th>lpsa</th>\n",
       "      <td>0.734460</td>\n",
       "      <td>0.433319</td>\n",
       "      <td>0.169593</td>\n",
       "      <td>0.179809</td>\n",
       "      <td>0.566218</td>\n",
       "      <td>0.548813</td>\n",
       "      <td>0.368987</td>\n",
       "      <td>0.422316</td>\n",
       "      <td>1.000000</td>\n",
       "    </tr>\n",
       "  </tbody>\n",
       "</table>\n",
       "</div>"
      ],
      "text/plain": [
       "           lcavol   lweight       age      lbph       svi       lcp   gleason  \\\n",
       "lcavol   1.000000  0.280521  0.225000  0.027350  0.538845  0.675310  0.432417   \n",
       "lweight  0.280521  1.000000  0.347969  0.442264  0.155385  0.164537  0.056882   \n",
       "age      0.225000  0.347969  1.000000  0.350186  0.117658  0.127668  0.268892   \n",
       "lbph     0.027350  0.442264  0.350186  1.000000 -0.085843 -0.006999  0.077820   \n",
       "svi      0.538845  0.155385  0.117658 -0.085843  1.000000  0.673111  0.320412   \n",
       "lcp      0.675310  0.164537  0.127668 -0.006999  0.673111  1.000000  0.514830   \n",
       "gleason  0.432417  0.056882  0.268892  0.077820  0.320412  0.514830  1.000000   \n",
       "pgg45    0.433652  0.107354  0.276112  0.078460  0.457648  0.631528  0.751905   \n",
       "lpsa     0.734460  0.433319  0.169593  0.179809  0.566218  0.548813  0.368987   \n",
       "\n",
       "            pgg45      lpsa  \n",
       "lcavol   0.433652  0.734460  \n",
       "lweight  0.107354  0.433319  \n",
       "age      0.276112  0.169593  \n",
       "lbph     0.078460  0.179809  \n",
       "svi      0.457648  0.566218  \n",
       "lcp      0.631528  0.548813  \n",
       "gleason  0.751905  0.368987  \n",
       "pgg45    1.000000  0.422316  \n",
       "lpsa     0.422316  1.000000  "
      ]
     },
     "execution_count": 6,
     "metadata": {},
     "output_type": "execute_result"
    }
   ],
   "source": [
    "prostata_table.corr(method='pearson')"
   ]
  },
  {
   "cell_type": "markdown",
   "metadata": {},
   "source": [
    "## #2f: compute covariance matrix of variables"
   ]
  },
  {
   "cell_type": "code",
   "execution_count": 7,
   "metadata": {},
   "outputs": [
    {
     "data": {
      "text/html": [
       "<div>\n",
       "<style scoped>\n",
       "    .dataframe tbody tr th:only-of-type {\n",
       "        vertical-align: middle;\n",
       "    }\n",
       "\n",
       "    .dataframe tbody tr th {\n",
       "        vertical-align: top;\n",
       "    }\n",
       "\n",
       "    .dataframe thead th {\n",
       "        text-align: right;\n",
       "    }\n",
       "</style>\n",
       "<table border=\"1\" class=\"dataframe\">\n",
       "  <thead>\n",
       "    <tr style=\"text-align: right;\">\n",
       "      <th></th>\n",
       "      <th>lcavol</th>\n",
       "      <th>lweight</th>\n",
       "      <th>age</th>\n",
       "      <th>lbph</th>\n",
       "      <th>svi</th>\n",
       "      <th>lcp</th>\n",
       "      <th>gleason</th>\n",
       "      <th>pgg45</th>\n",
       "      <th>lpsa</th>\n",
       "    </tr>\n",
       "  </thead>\n",
       "  <tbody>\n",
       "    <tr>\n",
       "      <th>lcavol</th>\n",
       "      <td>1.389157</td>\n",
       "      <td>0.141645</td>\n",
       "      <td>1.974374</td>\n",
       "      <td>0.046767</td>\n",
       "      <td>0.262927</td>\n",
       "      <td>1.112920</td>\n",
       "      <td>0.368041</td>\n",
       "      <td>14.415458</td>\n",
       "      <td>0.999249</td>\n",
       "    </tr>\n",
       "    <tr>\n",
       "      <th>lweight</th>\n",
       "      <td>0.141645</td>\n",
       "      <td>0.183536</td>\n",
       "      <td>1.109872</td>\n",
       "      <td>0.274886</td>\n",
       "      <td>0.027559</td>\n",
       "      <td>0.098562</td>\n",
       "      <td>0.017598</td>\n",
       "      <td>1.297148</td>\n",
       "      <td>0.214288</td>\n",
       "    </tr>\n",
       "    <tr>\n",
       "      <th>age</th>\n",
       "      <td>1.974374</td>\n",
       "      <td>1.109872</td>\n",
       "      <td>55.429768</td>\n",
       "      <td>3.782507</td>\n",
       "      <td>0.362650</td>\n",
       "      <td>1.329038</td>\n",
       "      <td>1.445662</td>\n",
       "      <td>57.978737</td>\n",
       "      <td>1.457500</td>\n",
       "    </tr>\n",
       "    <tr>\n",
       "      <th>lbph</th>\n",
       "      <td>0.046767</td>\n",
       "      <td>0.274886</td>\n",
       "      <td>3.782507</td>\n",
       "      <td>2.104840</td>\n",
       "      <td>-0.051560</td>\n",
       "      <td>-0.014199</td>\n",
       "      <td>0.081531</td>\n",
       "      <td>3.210474</td>\n",
       "      <td>0.301128</td>\n",
       "    </tr>\n",
       "    <tr>\n",
       "      <th>svi</th>\n",
       "      <td>0.262927</td>\n",
       "      <td>0.027559</td>\n",
       "      <td>0.362650</td>\n",
       "      <td>-0.051560</td>\n",
       "      <td>0.171392</td>\n",
       "      <td>0.389643</td>\n",
       "      <td>0.095790</td>\n",
       "      <td>5.343643</td>\n",
       "      <td>0.270588</td>\n",
       "    </tr>\n",
       "    <tr>\n",
       "      <th>lcp</th>\n",
       "      <td>1.112920</td>\n",
       "      <td>0.098562</td>\n",
       "      <td>1.329038</td>\n",
       "      <td>-0.014199</td>\n",
       "      <td>0.389643</td>\n",
       "      <td>1.955102</td>\n",
       "      <td>0.519836</td>\n",
       "      <td>24.905125</td>\n",
       "      <td>0.885807</td>\n",
       "    </tr>\n",
       "    <tr>\n",
       "      <th>gleason</th>\n",
       "      <td>0.368041</td>\n",
       "      <td>0.017598</td>\n",
       "      <td>1.445662</td>\n",
       "      <td>0.081531</td>\n",
       "      <td>0.095790</td>\n",
       "      <td>0.519836</td>\n",
       "      <td>0.521478</td>\n",
       "      <td>15.314111</td>\n",
       "      <td>0.307580</td>\n",
       "    </tr>\n",
       "    <tr>\n",
       "      <th>pgg45</th>\n",
       "      <td>14.415458</td>\n",
       "      <td>1.297148</td>\n",
       "      <td>57.978737</td>\n",
       "      <td>3.210474</td>\n",
       "      <td>5.343643</td>\n",
       "      <td>24.905125</td>\n",
       "      <td>15.314111</td>\n",
       "      <td>795.467569</td>\n",
       "      <td>13.749226</td>\n",
       "    </tr>\n",
       "    <tr>\n",
       "      <th>lpsa</th>\n",
       "      <td>0.999249</td>\n",
       "      <td>0.214288</td>\n",
       "      <td>1.457500</td>\n",
       "      <td>0.301128</td>\n",
       "      <td>0.270588</td>\n",
       "      <td>0.885807</td>\n",
       "      <td>0.307580</td>\n",
       "      <td>13.749226</td>\n",
       "      <td>1.332476</td>\n",
       "    </tr>\n",
       "  </tbody>\n",
       "</table>\n",
       "</div>"
      ],
      "text/plain": [
       "            lcavol   lweight        age      lbph       svi        lcp  \\\n",
       "lcavol    1.389157  0.141645   1.974374  0.046767  0.262927   1.112920   \n",
       "lweight   0.141645  0.183536   1.109872  0.274886  0.027559   0.098562   \n",
       "age       1.974374  1.109872  55.429768  3.782507  0.362650   1.329038   \n",
       "lbph      0.046767  0.274886   3.782507  2.104840 -0.051560  -0.014199   \n",
       "svi       0.262927  0.027559   0.362650 -0.051560  0.171392   0.389643   \n",
       "lcp       1.112920  0.098562   1.329038 -0.014199  0.389643   1.955102   \n",
       "gleason   0.368041  0.017598   1.445662  0.081531  0.095790   0.519836   \n",
       "pgg45    14.415458  1.297148  57.978737  3.210474  5.343643  24.905125   \n",
       "lpsa      0.999249  0.214288   1.457500  0.301128  0.270588   0.885807   \n",
       "\n",
       "           gleason       pgg45       lpsa  \n",
       "lcavol    0.368041   14.415458   0.999249  \n",
       "lweight   0.017598    1.297148   0.214288  \n",
       "age       1.445662   57.978737   1.457500  \n",
       "lbph      0.081531    3.210474   0.301128  \n",
       "svi       0.095790    5.343643   0.270588  \n",
       "lcp       0.519836   24.905125   0.885807  \n",
       "gleason   0.521478   15.314111   0.307580  \n",
       "pgg45    15.314111  795.467569  13.749226  \n",
       "lpsa      0.307580   13.749226   1.332476  "
      ]
     },
     "execution_count": 7,
     "metadata": {},
     "output_type": "execute_result"
    }
   ],
   "source": [
    "prostata_table.cov()"
   ]
  },
  {
   "cell_type": "markdown",
   "metadata": {},
   "source": [
    "## #2e: plot the joint and marginal distributions of selected variables"
   ]
  },
  {
   "cell_type": "markdown",
   "metadata": {},
   "source": [
    "### Plot the marginal and joint distribution of two variables together"
   ]
  },
  {
   "cell_type": "code",
   "execution_count": 8,
   "metadata": {},
   "outputs": [
    {
     "data": {
      "text/plain": [
       "<seaborn.axisgrid.JointGrid at 0x7ffa7d232d10>"
      ]
     },
     "execution_count": 8,
     "metadata": {},
     "output_type": "execute_result"
    },
    {
     "data": {
      "image/png": "[encoded data removed]",
      "text/plain": [
       "<Figure size 432x432 with 3 Axes>"
      ]
     },
     "metadata": {
      "needs_background": "light"
     },
     "output_type": "display_data"
    }
   ],
   "source": [
    "sns.jointplot(x=\"lcavol\", y=\"lweight\", data=prostata_table)"
   ]
  },
  {
   "cell_type": "markdown",
   "metadata": {},
   "source": [
    "# #3: Univariate regression with Statsmodel"
   ]
  },
  {
   "cell_type": "markdown",
   "metadata": {},
   "source": [
    "## #3a: select which variable is X and which is Y\n",
    "\n",
    "### alway remember to use \"add_constant\" to make sure you have intercept in regression equation"
   ]
  },
  {
   "cell_type": "code",
   "execution_count": 9,
   "metadata": {},
   "outputs": [],
   "source": [
    "X_one = prostata_table[['lcavol']]\n",
    "X_one = sm.add_constant(X_one)\n",
    "Y_one = prostata_table[['lpsa']]"
   ]
  },
  {
   "cell_type": "markdown",
   "metadata": {},
   "source": [
    "## #3b: compute regression, report the summary table and compute predicted value of Y"
   ]
  },
  {
   "cell_type": "code",
   "execution_count": 10,
   "metadata": {},
   "outputs": [
    {
     "name": "stdout",
     "output_type": "stream",
     "text": [
      "                            OLS Regression Results                            \n",
      "==============================================================================\n",
      "Dep. Variable:                   lpsa   R-squared:                       0.539\n",
      "Model:                            OLS   Adj. R-squared:                  0.535\n",
      "Method:                 Least Squares   F-statistic:                     111.3\n",
      "Date:                Mon, 24 Aug 2020   Prob (F-statistic):           1.12e-17\n",
      "Time:                        16:36:43   Log-Likelihood:                -113.45\n",
      "No. Observations:                  97   AIC:                             230.9\n",
      "Df Residuals:                      95   BIC:                             236.1\n",
      "Df Model:                           1                                         \n",
      "Covariance Type:            nonrobust                                         \n",
      "==============================================================================\n",
      "                 coef    std err          t      P>|t|      [0.025      0.975]\n",
      "------------------------------------------------------------------------------\n",
      "const          1.5073      0.122     12.361      0.000       1.265       1.749\n",
      "lcavol         0.7193      0.068     10.548      0.000       0.584       0.855\n",
      "==============================================================================\n",
      "Omnibus:                        0.403   Durbin-Watson:                   1.237\n",
      "Prob(Omnibus):                  0.817   Jarque-Bera (JB):                0.548\n",
      "Skew:                          -0.128   Prob(JB):                        0.760\n",
      "Kurtosis:                       2.735   Cond. No.                         3.27\n",
      "==============================================================================\n",
      "\n",
      "Warnings:\n",
      "[1] Standard Errors assume that the covariance matrix of the errors is correctly specified.\n"
     ]
    }
   ],
   "source": [
    "reg1 = sm.OLS(Y_one, X_one)\n",
    "\n",
    "result1 = reg1.fit()\n",
    "print(result1.summary())\n",
    "\n",
    "Y_pred_one = result1.predict()\n",
    "Y_pred_one.shape = (97,1)"
   ]
  },
  {
   "cell_type": "markdown",
   "metadata": {},
   "source": [
    "### if you want to see the result one by one"
   ]
  },
  {
   "cell_type": "code",
   "execution_count": 11,
   "metadata": {},
   "outputs": [
    {
     "name": "stdout",
     "output_type": "stream",
     "text": [
      "Parameters:  const     1.507297\n",
      "lcavol    0.719320\n",
      "dtype: float64\n",
      "Standard errors of regression coefficents:  const     0.121937\n",
      "lcavol    0.068193\n",
      "dtype: float64\n",
      "R2:  0.5394319707818951\n"
     ]
    }
   ],
   "source": [
    "print('Parameters: ', result1.params)\n",
    "print('Standard errors of regression coefficents: ', result1.bse)\n",
    "print('R2: ', result1.rsquared)"
   ]
  },
  {
   "cell_type": "markdown",
   "metadata": {},
   "source": [
    "## #3c: compute t-test on your regression result"
   ]
  },
  {
   "cell_type": "markdown",
   "metadata": {},
   "source": [
    "### T-test if intercept is 0 in population"
   ]
  },
  {
   "cell_type": "code",
   "execution_count": 12,
   "metadata": {},
   "outputs": [
    {
     "name": "stdout",
     "output_type": "stream",
     "text": [
      "                             Test for Constraints                             \n",
      "==============================================================================\n",
      "                 coef    std err          t      P>|t|      [0.025      0.975]\n",
      "------------------------------------------------------------------------------\n",
      "c0             1.5073      0.122     12.361      0.000       1.265       1.749\n",
      "==============================================================================\n"
     ]
    }
   ],
   "source": [
    "print(result1.t_test([\"const = 0\"]))"
   ]
  },
  {
   "cell_type": "markdown",
   "metadata": {},
   "source": [
    "### T-test if the regression coeffcient of \"lcavol\" is 0 in population"
   ]
  },
  {
   "cell_type": "code",
   "execution_count": 13,
   "metadata": {},
   "outputs": [
    {
     "name": "stdout",
     "output_type": "stream",
     "text": [
      "                             Test for Constraints                             \n",
      "==============================================================================\n",
      "                 coef    std err          t      P>|t|      [0.025      0.975]\n",
      "------------------------------------------------------------------------------\n",
      "c0             0.7193      0.068     10.548      0.000       0.584       0.855\n",
      "==============================================================================\n"
     ]
    }
   ],
   "source": [
    "print(result1.t_test([\"lcavol = 0\"]))"
   ]
  },
  {
   "cell_type": "markdown",
   "metadata": {},
   "source": [
    "## #3d: plot the regression line and data points"
   ]
  },
  {
   "cell_type": "code",
   "execution_count": 15,
   "metadata": {},
   "outputs": [
    {
     "data": {
      "image/png": "[encoded data removed]",
      "text/plain": [
       "<Figure size 432x288 with 1 Axes>"
      ]
     },
     "metadata": {
      "needs_background": "light"
     },
     "output_type": "display_data"
    }
   ],
   "source": [
    "fig1 = plt.figure()\n",
    "\n",
    "plt.scatter(X_one['lcavol'], Y_one, label='data scatter', color='blue')\n",
    "plt.plot(X_one['lcavol'], Y_pred_one, label='regression equation', color='red', linewidth=2.0,)\n",
    "\n",
    "plt.xlabel('lcavol')\n",
    "plt.ylabel('lpsa')\n",
    "plt.title('Dummiest regression in the world')\n",
    "\n",
    "plt.legend()\n",
    "\n",
    "plt.xlim(-2,4.5)\n",
    "plt.ylim(-1,6)\n",
    "\n",
    "plt.show()"
   ]
  },
  {
   "cell_type": "markdown",
   "metadata": {},
   "source": [
    "# #4: Multivariate regression with Statsmodel"
   ]
  },
  {
   "cell_type": "markdown",
   "metadata": {},
   "source": [
    "## #4a: choose which variable is in X and which variable is Y\n",
    "### alway remeber to use \"add_constant\" to make sure you have intercept in your regression equation"
   ]
  },
  {
   "cell_type": "code",
   "execution_count": 16,
   "metadata": {},
   "outputs": [],
   "source": [
    "X = prostata_table[['lcavol','lweight','age','lbph','svi','lcp','gleason','pgg45']]\n",
    "X = sm.add_constant(X)\n",
    "Y = prostata_table[['lpsa']]"
   ]
  },
  {
   "cell_type": "markdown",
   "metadata": {},
   "source": [
    "## #4b: compute regression and report the result"
   ]
  },
  {
   "cell_type": "code",
   "execution_count": 17,
   "metadata": {},
   "outputs": [
    {
     "name": "stdout",
     "output_type": "stream",
     "text": [
      "                            OLS Regression Results                            \n",
      "==============================================================================\n",
      "Dep. Variable:                   lpsa   R-squared:                       0.663\n",
      "Model:                            OLS   Adj. R-squared:                  0.633\n",
      "Method:                 Least Squares   F-statistic:                     21.68\n",
      "Date:                Mon, 24 Aug 2020   Prob (F-statistic):           7.65e-18\n",
      "Time:                        16:37:05   Log-Likelihood:                -98.248\n",
      "No. Observations:                  97   AIC:                             214.5\n",
      "Df Residuals:                      88   BIC:                             237.7\n",
      "Df Model:                           8                                         \n",
      "Covariance Type:            nonrobust                                         \n",
      "==============================================================================\n",
      "                 coef    std err          t      P>|t|      [0.025      0.975]\n",
      "------------------------------------------------------------------------------\n",
      "const          0.1816      1.321      0.137      0.891      -2.443       2.806\n",
      "lcavol         0.5643      0.088      6.425      0.000       0.390       0.739\n",
      "lweight        0.6220      0.201      3.096      0.003       0.223       1.021\n",
      "age           -0.0212      0.011     -1.917      0.058      -0.043       0.001\n",
      "lbph           0.0967      0.058      1.670      0.098      -0.018       0.212\n",
      "svi            0.7617      0.241      3.158      0.002       0.282       1.241\n",
      "lcp           -0.1061      0.090     -1.180      0.241      -0.285       0.073\n",
      "gleason        0.0492      0.155      0.317      0.752      -0.259       0.358\n",
      "pgg45          0.0045      0.004      1.021      0.310      -0.004       0.013\n",
      "==============================================================================\n",
      "Omnibus:                        0.563   Durbin-Watson:                   1.540\n",
      "Prob(Omnibus):                  0.755   Jarque-Bera (JB):                0.183\n",
      "Skew:                           0.017   Prob(JB):                        0.913\n",
      "Kurtosis:                       3.210   Cond. No.                     1.32e+03\n",
      "==============================================================================\n",
      "\n",
      "Warnings:\n",
      "[1] Standard Errors assume that the covariance matrix of the errors is correctly specified.\n",
      "[2] The condition number is large, 1.32e+03. This might indicate that there are\n",
      "strong multicollinearity or other numerical problems.\n"
     ]
    }
   ],
   "source": [
    "reg = sm.OLS(Y, X)\n",
    "\n",
    "result = reg.fit()\n",
    "print(result.summary())"
   ]
  },
  {
   "cell_type": "markdown",
   "metadata": {},
   "source": [
    "### if you want to see the result one by one"
   ]
  },
  {
   "cell_type": "code",
   "execution_count": 18,
   "metadata": {},
   "outputs": [
    {
     "name": "stdout",
     "output_type": "stream",
     "text": [
      "Parameters:  const      0.181561\n",
      "lcavol     0.564341\n",
      "lweight    0.622020\n",
      "age       -0.021248\n",
      "lbph       0.096713\n",
      "svi        0.761673\n",
      "lcp       -0.106051\n",
      "gleason    0.049228\n",
      "pgg45      0.004458\n",
      "dtype: float64\n",
      "Standard errors:  const      1.320568\n",
      "lcavol     0.087833\n",
      "lweight    0.200897\n",
      "age        0.011084\n",
      "lbph       0.057913\n",
      "svi        0.241176\n",
      "lcp        0.089868\n",
      "gleason    0.155341\n",
      "pgg45      0.004365\n",
      "dtype: float64\n",
      "R2:  0.6633895654989246\n"
     ]
    }
   ],
   "source": [
    "print('Parameters: ', result.params)\n",
    "print('Standard errors: ', result.bse)\n",
    "print('R2: ', result.rsquared)"
   ]
  },
  {
   "cell_type": "markdown",
   "metadata": {},
   "source": [
    "## #4c: T-test on regression model"
   ]
  },
  {
   "cell_type": "markdown",
   "metadata": {},
   "source": [
    "### T-test on $H_0 : \\beta_{lcavol} = 0$"
   ]
  },
  {
   "cell_type": "code",
   "execution_count": 19,
   "metadata": {},
   "outputs": [
    {
     "name": "stdout",
     "output_type": "stream",
     "text": [
      "                             Test for Constraints                             \n",
      "==============================================================================\n",
      "                 coef    std err          t      P>|t|      [0.025      0.975]\n",
      "------------------------------------------------------------------------------\n",
      "c0             0.5643      0.088     -4.960      0.000       0.390       0.739\n",
      "==============================================================================\n"
     ]
    }
   ],
   "source": [
    "print(result.t_test(\"lcavol = 1\"))"
   ]
  },
  {
   "cell_type": "markdown",
   "metadata": {},
   "source": [
    "### T-test on $H_0 : \\beta_{lcavol} = 1$"
   ]
  },
  {
   "cell_type": "code",
   "execution_count": 20,
   "metadata": {},
   "outputs": [
    {
     "name": "stdout",
     "output_type": "stream",
     "text": [
      "<F test: F=array([[24.60214109]]), p=3.4048449062449285e-06, df_denom=88, df_num=1>\n"
     ]
    }
   ],
   "source": [
    "print(result.f_test([\"lcavol = 1\"]))"
   ]
  },
  {
   "cell_type": "markdown",
   "metadata": {},
   "source": [
    "### Perform two T-tests \n",
    "### First one  : $H_0 : \\beta_{lcavol} = 100$\n",
    "### Second one : $H_0 : \\beta_{lweight} = 500$"
   ]
  },
  {
   "cell_type": "code",
   "execution_count": 21,
   "metadata": {},
   "outputs": [
    {
     "name": "stdout",
     "output_type": "stream",
     "text": [
      "                             Test for Constraints                             \n",
      "==============================================================================\n",
      "                 coef    std err          t      P>|t|      [0.025      0.975]\n",
      "------------------------------------------------------------------------------\n",
      "c0             0.5643      0.088  -1132.093      0.000       0.390       0.739\n",
      "c1             0.6220      0.201  -2485.746      0.000       0.223       1.021\n",
      "==============================================================================\n"
     ]
    }
   ],
   "source": [
    "print(result.t_test([\"lcavol = 100\",\"lweight = 500\"]))"
   ]
  },
  {
   "cell_type": "markdown",
   "metadata": {},
   "source": [
    "## #4d: F-test on regression model"
   ]
  },
  {
   "cell_type": "markdown",
   "metadata": {},
   "source": [
    "### F-test on $H_0 : \\beta_{lcavol} = \\beta_{lweight} =1$"
   ]
  },
  {
   "cell_type": "code",
   "execution_count": 22,
   "metadata": {},
   "outputs": [
    {
     "name": "stdout",
     "output_type": "stream",
     "text": [
      "<F test: F=array([[16.76028865]]), p=6.802136120429648e-07, df_denom=88, df_num=2>\n"
     ]
    }
   ],
   "source": [
    "print(result.f_test(\"lcavol = lweight = 1\"))"
   ]
  },
  {
   "cell_type": "markdown",
   "metadata": {},
   "source": [
    "### F-test on $H_0 : \\beta_{lcavol} = 1 \\mbox{ and } \\beta_{lweight} = 3$"
   ]
  },
  {
   "cell_type": "code",
   "execution_count": 23,
   "metadata": {},
   "outputs": [
    {
     "name": "stdout",
     "output_type": "stream",
     "text": [
      "<F test: F=array([[98.99237548]]), p=3.0071216760314156e-23, df_denom=88, df_num=2>\n"
     ]
    }
   ],
   "source": [
    "print(result.f_test([\"lcavol = 1\", \"lweight = 3\"]))"
   ]
  },
  {
   "cell_type": "code",
   "execution_count": null,
   "metadata": {},
   "outputs": [],
   "source": []
  }
 ],
 "metadata": {
  "kernelspec": {
   "display_name": "Python 3",
   "language": "python",
   "name": "python3"
  },
  "language_info": {
   "codemirror_mode": {
    "name": "ipython",
    "version": 3
   },
   "file_extension": ".py",
   "mimetype": "text/x-python",
   "name": "python",
   "nbconvert_exporter": "python",
   "pygments_lexer": "ipython3",
   "version": "3.7.6"
  }
 },
 "nbformat": 4,
 "nbformat_minor": 4
}
