{
 "cells": [
  {
   "cell_type": "markdown",
   "metadata": {},
   "source": [
    "# First, reset all your Python and load pandas and statsmodels"
   ]
  },
  {
   "cell_type": "code",
   "execution_count": 1,
   "metadata": {},
   "outputs": [],
   "source": [
    "%reset -f"
   ]
  },
  {
   "cell_type": "code",
   "execution_count": 2,
   "metadata": {},
   "outputs": [],
   "source": [
    "import pandas          as pd\n",
    "import statsmodels.api as sm"
   ]
  },
  {
   "cell_type": "markdown",
   "metadata": {},
   "source": [
    "# Question 1"
   ]
  },
  {
   "cell_type": "markdown",
   "metadata": {},
   "source": [
    "## load data into Python"
   ]
  },
  {
   "cell_type": "code",
   "execution_count": 3,
   "metadata": {},
   "outputs": [],
   "source": [
    "data = pd.read_csv('econmath.csv')\n",
    "data = data.dropna()"
   ]
  },
  {
   "cell_type": "markdown",
   "metadata": {},
   "source": [
    "## check the first 5 observations of the data"
   ]
  },
  {
   "cell_type": "code",
   "execution_count": 4,
   "metadata": {},
   "outputs": [
    {
     "data": {
      "text/html": [
       "<div>\n",
       "<style scoped>\n",
       "    .dataframe tbody tr th:only-of-type {\n",
       "        vertical-align: middle;\n",
       "    }\n",
       "\n",
       "    .dataframe tbody tr th {\n",
       "        vertical-align: top;\n",
       "    }\n",
       "\n",
       "    .dataframe thead th {\n",
       "        text-align: right;\n",
       "    }\n",
       "</style>\n",
       "<table border=\"1\" class=\"dataframe\">\n",
       "  <thead>\n",
       "    <tr style=\"text-align: right;\">\n",
       "      <th></th>\n",
       "      <th>age</th>\n",
       "      <th>work</th>\n",
       "      <th>study</th>\n",
       "      <th>econhs</th>\n",
       "      <th>colgpa</th>\n",
       "      <th>hsgpa</th>\n",
       "      <th>acteng</th>\n",
       "      <th>actmth</th>\n",
       "      <th>act</th>\n",
       "      <th>mathscr</th>\n",
       "      <th>male</th>\n",
       "      <th>calculus</th>\n",
       "      <th>attexc</th>\n",
       "      <th>attgood</th>\n",
       "      <th>fathcoll</th>\n",
       "      <th>mothcoll</th>\n",
       "      <th>score</th>\n",
       "    </tr>\n",
       "  </thead>\n",
       "  <tbody>\n",
       "    <tr>\n",
       "      <th>0</th>\n",
       "      <td>23</td>\n",
       "      <td>15.0</td>\n",
       "      <td>10.0</td>\n",
       "      <td>0</td>\n",
       "      <td>3.4909</td>\n",
       "      <td>3.355</td>\n",
       "      <td>24.0</td>\n",
       "      <td>26.0</td>\n",
       "      <td>27.0</td>\n",
       "      <td>10</td>\n",
       "      <td>1</td>\n",
       "      <td>1</td>\n",
       "      <td>0</td>\n",
       "      <td>0</td>\n",
       "      <td>1</td>\n",
       "      <td>1</td>\n",
       "      <td>84.430000</td>\n",
       "    </tr>\n",
       "    <tr>\n",
       "      <th>1</th>\n",
       "      <td>23</td>\n",
       "      <td>0.0</td>\n",
       "      <td>22.5</td>\n",
       "      <td>1</td>\n",
       "      <td>2.1000</td>\n",
       "      <td>3.219</td>\n",
       "      <td>23.0</td>\n",
       "      <td>20.0</td>\n",
       "      <td>24.0</td>\n",
       "      <td>9</td>\n",
       "      <td>1</td>\n",
       "      <td>0</td>\n",
       "      <td>0</td>\n",
       "      <td>0</td>\n",
       "      <td>0</td>\n",
       "      <td>1</td>\n",
       "      <td>57.380001</td>\n",
       "    </tr>\n",
       "    <tr>\n",
       "      <th>2</th>\n",
       "      <td>21</td>\n",
       "      <td>25.0</td>\n",
       "      <td>12.0</td>\n",
       "      <td>0</td>\n",
       "      <td>3.0851</td>\n",
       "      <td>3.306</td>\n",
       "      <td>21.0</td>\n",
       "      <td>24.0</td>\n",
       "      <td>21.0</td>\n",
       "      <td>8</td>\n",
       "      <td>1</td>\n",
       "      <td>1</td>\n",
       "      <td>1</td>\n",
       "      <td>0</td>\n",
       "      <td>0</td>\n",
       "      <td>1</td>\n",
       "      <td>66.389999</td>\n",
       "    </tr>\n",
       "    <tr>\n",
       "      <th>3</th>\n",
       "      <td>22</td>\n",
       "      <td>30.0</td>\n",
       "      <td>40.0</td>\n",
       "      <td>0</td>\n",
       "      <td>2.6805</td>\n",
       "      <td>3.977</td>\n",
       "      <td>31.0</td>\n",
       "      <td>28.0</td>\n",
       "      <td>31.0</td>\n",
       "      <td>10</td>\n",
       "      <td>0</td>\n",
       "      <td>1</td>\n",
       "      <td>0</td>\n",
       "      <td>1</td>\n",
       "      <td>1</td>\n",
       "      <td>1</td>\n",
       "      <td>81.150002</td>\n",
       "    </tr>\n",
       "    <tr>\n",
       "      <th>4</th>\n",
       "      <td>22</td>\n",
       "      <td>25.0</td>\n",
       "      <td>15.0</td>\n",
       "      <td>1</td>\n",
       "      <td>3.7454</td>\n",
       "      <td>3.890</td>\n",
       "      <td>28.0</td>\n",
       "      <td>31.0</td>\n",
       "      <td>32.0</td>\n",
       "      <td>8</td>\n",
       "      <td>1</td>\n",
       "      <td>1</td>\n",
       "      <td>0</td>\n",
       "      <td>1</td>\n",
       "      <td>0</td>\n",
       "      <td>1</td>\n",
       "      <td>95.900002</td>\n",
       "    </tr>\n",
       "  </tbody>\n",
       "</table>\n",
       "</div>"
      ],
      "text/plain": [
       "   age  work  study  econhs  colgpa  hsgpa  acteng  actmth   act  mathscr  \\\n",
       "0   23  15.0   10.0       0  3.4909  3.355    24.0    26.0  27.0       10   \n",
       "1   23   0.0   22.5       1  2.1000  3.219    23.0    20.0  24.0        9   \n",
       "2   21  25.0   12.0       0  3.0851  3.306    21.0    24.0  21.0        8   \n",
       "3   22  30.0   40.0       0  2.6805  3.977    31.0    28.0  31.0       10   \n",
       "4   22  25.0   15.0       1  3.7454  3.890    28.0    31.0  32.0        8   \n",
       "\n",
       "   male  calculus  attexc  attgood  fathcoll  mothcoll      score  \n",
       "0     1         1       0        0         1         1  84.430000  \n",
       "1     1         0       0        0         0         1  57.380001  \n",
       "2     1         1       1        0         0         1  66.389999  \n",
       "3     0         1       0        1         1         1  81.150002  \n",
       "4     1         1       0        1         0         1  95.900002  "
      ]
     },
     "execution_count": 4,
     "metadata": {},
     "output_type": "execute_result"
    }
   ],
   "source": [
    "data.head()"
   ]
  },
  {
   "cell_type": "markdown",
   "metadata": {},
   "source": [
    "## list all the variable names of the data"
   ]
  },
  {
   "cell_type": "code",
   "execution_count": 5,
   "metadata": {},
   "outputs": [
    {
     "data": {
      "text/plain": [
       "['age',\n",
       " 'work',\n",
       " 'study',\n",
       " 'econhs',\n",
       " 'colgpa',\n",
       " 'hsgpa',\n",
       " 'acteng',\n",
       " 'actmth',\n",
       " 'act',\n",
       " 'mathscr',\n",
       " 'male',\n",
       " 'calculus',\n",
       " 'attexc',\n",
       " 'attgood',\n",
       " 'fathcoll',\n",
       " 'mothcoll',\n",
       " 'score']"
      ]
     },
     "execution_count": 5,
     "metadata": {},
     "output_type": "execute_result"
    }
   ],
   "source": [
    "list(data.columns)"
   ]
  },
  {
   "cell_type": "markdown",
   "metadata": {},
   "source": [
    "## compute the min, max, mean and sd of 3 specific variables"
   ]
  },
  {
   "cell_type": "markdown",
   "metadata": {},
   "source": [
    "### specify which variable you want to compute the summary statistics on"
   ]
  },
  {
   "cell_type": "code",
   "execution_count": 6,
   "metadata": {},
   "outputs": [],
   "source": [
    "var_name = ['actmth', 'acteng', 'score']"
   ]
  },
  {
   "cell_type": "markdown",
   "metadata": {},
   "source": [
    "### mean"
   ]
  },
  {
   "cell_type": "code",
   "execution_count": 7,
   "metadata": {},
   "outputs": [
    {
     "data": {
      "text/plain": [
       "actmth    23.211302\n",
       "acteng    22.594595\n",
       "score     72.608734\n",
       "dtype: float64"
      ]
     },
     "execution_count": 7,
     "metadata": {},
     "output_type": "execute_result"
    }
   ],
   "source": [
    "data[var_name].mean()"
   ]
  },
  {
   "cell_type": "markdown",
   "metadata": {},
   "source": [
    "### sd"
   ]
  },
  {
   "cell_type": "code",
   "execution_count": 8,
   "metadata": {},
   "outputs": [
    {
     "data": {
      "text/plain": [
       "actmth     3.773354\n",
       "acteng     3.788735\n",
       "score     13.304494\n",
       "dtype: float64"
      ]
     },
     "execution_count": 8,
     "metadata": {},
     "output_type": "execute_result"
    }
   ],
   "source": [
    "data[var_name].std()"
   ]
  },
  {
   "cell_type": "markdown",
   "metadata": {},
   "source": [
    "### min"
   ]
  },
  {
   "cell_type": "code",
   "execution_count": 9,
   "metadata": {},
   "outputs": [
    {
     "data": {
      "text/plain": [
       "actmth    12.000000\n",
       "acteng    12.000000\n",
       "score     20.309999\n",
       "dtype: float64"
      ]
     },
     "execution_count": 9,
     "metadata": {},
     "output_type": "execute_result"
    }
   ],
   "source": [
    "data[var_name].min()"
   ]
  },
  {
   "cell_type": "markdown",
   "metadata": {},
   "source": [
    "### max"
   ]
  },
  {
   "cell_type": "code",
   "execution_count": 10,
   "metadata": {},
   "outputs": [
    {
     "data": {
      "text/plain": [
       "actmth    36.000000\n",
       "acteng    34.000000\n",
       "score     98.440002\n",
       "dtype: float64"
      ]
     },
     "execution_count": 10,
     "metadata": {},
     "output_type": "execute_result"
    }
   ],
   "source": [
    "data[var_name].max()"
   ]
  },
  {
   "cell_type": "markdown",
   "metadata": {},
   "source": [
    "## estimate the regression model \n",
    "\n",
    "## $$ score = \\beta_0 + \\beta_1 \\cdot colgpa + \\beta_2 \\cdot actmth \\beta_1 \\cdot acteng + u$$"
   ]
  },
  {
   "cell_type": "code",
   "execution_count": 11,
   "metadata": {},
   "outputs": [],
   "source": [
    "X = data[['colgpa', 'actmth', 'acteng']]\n",
    "X = sm.add_constant(X)\n",
    "Y = data[['score']]"
   ]
  },
  {
   "cell_type": "code",
   "execution_count": 12,
   "metadata": {},
   "outputs": [
    {
     "name": "stdout",
     "output_type": "stream",
     "text": [
      "                            OLS Regression Results                            \n",
      "==============================================================================\n",
      "Dep. Variable:                  score   R-squared:                       0.397\n",
      "Model:                            OLS   Adj. R-squared:                  0.395\n",
      "Method:                 Least Squares   F-statistic:                     177.9\n",
      "Date:                Mon, 24 Aug 2020   Prob (F-statistic):           1.31e-88\n",
      "Time:                        16:31:54   Log-Likelihood:                -3055.2\n",
      "No. Observations:                 814   AIC:                             6118.\n",
      "Df Residuals:                     810   BIC:                             6137.\n",
      "Df Model:                           3                                         \n",
      "Covariance Type:            nonrobust                                         \n",
      "==============================================================================\n",
      "                 coef    std err          t      P>|t|      [0.025      0.975]\n",
      "------------------------------------------------------------------------------\n",
      "const         16.1740      2.800      5.776      0.000      10.677      21.671\n",
      "colgpa        12.3662      0.715     17.294      0.000      10.963      13.770\n",
      "actmth         0.8834      0.112      7.873      0.000       0.663       1.104\n",
      "acteng         0.0518      0.111      0.466      0.641      -0.166       0.270\n",
      "==============================================================================\n",
      "Omnibus:                       29.631   Durbin-Watson:                   2.064\n",
      "Prob(Omnibus):                  0.000   Jarque-Bera (JB):               34.696\n",
      "Skew:                          -0.408   Prob(JB):                     2.92e-08\n",
      "Kurtosis:                       3.599   Cond. No.                         255.\n",
      "==============================================================================\n",
      "\n",
      "Warnings:\n",
      "[1] Standard Errors assume that the covariance matrix of the errors is correctly specified.\n"
     ]
    }
   ],
   "source": [
    "OLS_model = sm.OLS(Y, X)\n",
    "\n",
    "OLS_result = OLS_model.fit()\n",
    "print(OLS_result.summary())"
   ]
  },
  {
   "cell_type": "markdown",
   "metadata": {},
   "source": [
    "### standardize each variable"
   ]
  },
  {
   "cell_type": "code",
   "execution_count": 13,
   "metadata": {},
   "outputs": [],
   "source": [
    "X_st = data[['colgpa', 'actmth', 'acteng']]\n",
    "X_st = (X_st - X_st.mean()) / X_st.std()\n",
    "X_st = sm.add_constant(X_st)\n",
    "Y_st = data[['score']]\n",
    "Y_st = (Y_st - Y_st.mean())/Y_st.std()"
   ]
  },
  {
   "cell_type": "markdown",
   "metadata": {},
   "source": [
    "### check the mean "
   ]
  },
  {
   "cell_type": "code",
   "execution_count": 14,
   "metadata": {},
   "outputs": [
    {
     "data": {
      "text/plain": [
       "const     1.000000e+00\n",
       "colgpa    8.188372e-15\n",
       "actmth    1.421195e-16\n",
       "acteng    3.397501e-16\n",
       "dtype: float64"
      ]
     },
     "execution_count": 14,
     "metadata": {},
     "output_type": "execute_result"
    }
   ],
   "source": [
    "X_st.mean()"
   ]
  },
  {
   "cell_type": "code",
   "execution_count": 15,
   "metadata": {},
   "outputs": [
    {
     "data": {
      "text/plain": [
       "score   -6.565864e-16\n",
       "dtype: float64"
      ]
     },
     "execution_count": 15,
     "metadata": {},
     "output_type": "execute_result"
    }
   ],
   "source": [
    "Y_st.mean()"
   ]
  },
  {
   "cell_type": "markdown",
   "metadata": {},
   "source": [
    "### check the sd"
   ]
  },
  {
   "cell_type": "code",
   "execution_count": 16,
   "metadata": {},
   "outputs": [
    {
     "data": {
      "text/plain": [
       "const     0.0\n",
       "colgpa    1.0\n",
       "actmth    1.0\n",
       "acteng    1.0\n",
       "dtype: float64"
      ]
     },
     "execution_count": 16,
     "metadata": {},
     "output_type": "execute_result"
    }
   ],
   "source": [
    "X_st.std()"
   ]
  },
  {
   "cell_type": "code",
   "execution_count": 17,
   "metadata": {},
   "outputs": [
    {
     "data": {
      "text/plain": [
       "score    1.0\n",
       "dtype: float64"
      ]
     },
     "execution_count": 17,
     "metadata": {},
     "output_type": "execute_result"
    }
   ],
   "source": [
    "Y_st.std()"
   ]
  },
  {
   "cell_type": "markdown",
   "metadata": {},
   "source": [
    "### re-estimate the model after standardization"
   ]
  },
  {
   "cell_type": "code",
   "execution_count": 18,
   "metadata": {},
   "outputs": [
    {
     "name": "stdout",
     "output_type": "stream",
     "text": [
      "                            OLS Regression Results                            \n",
      "==============================================================================\n",
      "Dep. Variable:                  score   R-squared:                       0.397\n",
      "Model:                            OLS   Adj. R-squared:                  0.395\n",
      "Method:                 Least Squares   F-statistic:                     177.9\n",
      "Date:                Mon, 24 Aug 2020   Prob (F-statistic):           1.31e-88\n",
      "Time:                        16:31:56   Log-Likelihood:                -948.48\n",
      "No. Observations:                 814   AIC:                             1905.\n",
      "Df Residuals:                     810   BIC:                             1924.\n",
      "Df Model:                           3                                         \n",
      "Covariance Type:            nonrobust                                         \n",
      "==============================================================================\n",
      "                 coef    std err          t      P>|t|      [0.025      0.975]\n",
      "------------------------------------------------------------------------------\n",
      "const      -6.106e-16      0.027  -2.24e-14      1.000      -0.054       0.054\n",
      "colgpa         0.5012      0.029     17.294      0.000       0.444       0.558\n",
      "actmth         0.2505      0.032      7.873      0.000       0.188       0.313\n",
      "acteng         0.0147      0.032      0.466      0.641      -0.047       0.077\n",
      "==============================================================================\n",
      "Omnibus:                       29.631   Durbin-Watson:                   2.064\n",
      "Prob(Omnibus):                  0.000   Jarque-Bera (JB):               34.696\n",
      "Skew:                          -0.408   Prob(JB):                     2.92e-08\n",
      "Kurtosis:                       3.599   Cond. No.                         1.83\n",
      "==============================================================================\n",
      "\n",
      "Warnings:\n",
      "[1] Standard Errors assume that the covariance matrix of the errors is correctly specified.\n"
     ]
    }
   ],
   "source": [
    "OLS_st = sm.OLS(Y_st, X_st)\n",
    "\n",
    "OLS_st_result = OLS_st.fit()\n",
    "print(OLS_st_result.summary())"
   ]
  },
  {
   "cell_type": "markdown",
   "metadata": {},
   "source": [
    "# Question 2"
   ]
  },
  {
   "cell_type": "markdown",
   "metadata": {},
   "source": [
    "## load data into Python"
   ]
  },
  {
   "cell_type": "code",
   "execution_count": 22,
   "metadata": {},
   "outputs": [],
   "source": [
    "data2 = pd.read_csv('hprice2.csv')"
   ]
  },
  {
   "cell_type": "markdown",
   "metadata": {},
   "source": [
    "## compute the min, max, mean and sd of specific variables"
   ]
  },
  {
   "cell_type": "code",
   "execution_count": 23,
   "metadata": {},
   "outputs": [],
   "source": [
    "var_name2 = ['price', 'sqrmtr', 'lotsize', 'bdrms']"
   ]
  },
  {
   "cell_type": "code",
   "execution_count": 24,
   "metadata": {},
   "outputs": [
    {
     "data": {
      "text/plain": [
       "price      292649.372881\n",
       "sqrmtr        233.347458\n",
       "lotsize      1058.042373\n",
       "bdrms           3.567797\n",
       "dtype: float64"
      ]
     },
     "execution_count": 24,
     "metadata": {},
     "output_type": "execute_result"
    }
   ],
   "source": [
    "data2[var_name2].mean()"
   ]
  },
  {
   "cell_type": "code",
   "execution_count": 25,
   "metadata": {},
   "outputs": [
    {
     "data": {
      "text/plain": [
       "price      98449.884623\n",
       "sqrmtr        64.412052\n",
       "lotsize     1110.507980\n",
       "bdrms          0.831833\n",
       "dtype: float64"
      ]
     },
     "execution_count": 25,
     "metadata": {},
     "output_type": "execute_result"
    }
   ],
   "source": [
    "data2[var_name2].std()"
   ]
  },
  {
   "cell_type": "code",
   "execution_count": 26,
   "metadata": {},
   "outputs": [
    {
     "data": {
      "text/plain": [
       "price      111000\n",
       "sqrmtr        134\n",
       "lotsize       125\n",
       "bdrms           2\n",
       "dtype: int64"
      ]
     },
     "execution_count": 26,
     "metadata": {},
     "output_type": "execute_result"
    }
   ],
   "source": [
    "data2[var_name2].min()"
   ]
  },
  {
   "cell_type": "code",
   "execution_count": 27,
   "metadata": {},
   "outputs": [
    {
     "data": {
      "text/plain": [
       "price      815000\n",
       "sqrmtr        446\n",
       "lotsize     11585\n",
       "bdrms           7\n",
       "dtype: int64"
      ]
     },
     "execution_count": 27,
     "metadata": {},
     "output_type": "execute_result"
    }
   ],
   "source": [
    "data2[var_name2].max()"
   ]
  },
  {
   "cell_type": "markdown",
   "metadata": {},
   "source": [
    "## regression $$price = \\beta_0 + \\beta_1 \\cdot sqrmtr + \\beta_2 \\cdot lotsize + \\beta_3 \\cdot bdrms + u$$"
   ]
  },
  {
   "cell_type": "code",
   "execution_count": 28,
   "metadata": {},
   "outputs": [],
   "source": [
    "X2 = data2[['sqrmtr', 'lotsize', 'bdrms']]\n",
    "X2 = sm.add_constant(X2)\n",
    "Y2 = data2[['price']]"
   ]
  },
  {
   "cell_type": "code",
   "execution_count": 29,
   "metadata": {},
   "outputs": [
    {
     "name": "stdout",
     "output_type": "stream",
     "text": [
      "                            OLS Regression Results                            \n",
      "==============================================================================\n",
      "Dep. Variable:                  price   R-squared:                       0.637\n",
      "Model:                            OLS   Adj. R-squared:                  0.627\n",
      "Method:                 Least Squares   F-statistic:                     66.59\n",
      "Date:                Mon, 24 Aug 2020   Prob (F-statistic):           5.96e-25\n",
      "Time:                        16:32:20   Log-Likelihood:                -1463.9\n",
      "No. Observations:                 118   AIC:                             2936.\n",
      "Df Residuals:                     114   BIC:                             2947.\n",
      "Df Model:                           3                                         \n",
      "Covariance Type:            nonrobust                                         \n",
      "==============================================================================\n",
      "                 coef    std err          t      P>|t|      [0.025      0.975]\n",
      "------------------------------------------------------------------------------\n",
      "const      -1.175e+04   2.64e+04     -0.445      0.657    -6.4e+04    4.05e+04\n",
      "sqrmtr      1018.2624     99.865     10.196      0.000     820.430    1216.095\n",
      "lotsize       19.5804      5.100      3.839      0.000       9.476      29.684\n",
      "bdrms       1.291e+04   7638.866      1.691      0.094   -2218.567     2.8e+04\n",
      "==============================================================================\n",
      "Omnibus:                       37.822   Durbin-Watson:                   1.920\n",
      "Prob(Omnibus):                  0.000   Jarque-Bera (JB):               96.347\n",
      "Skew:                           1.210   Prob(JB):                     1.20e-21\n",
      "Kurtosis:                       6.707   Cond. No.                     7.46e+03\n",
      "==============================================================================\n",
      "\n",
      "Warnings:\n",
      "[1] Standard Errors assume that the covariance matrix of the errors is correctly specified.\n",
      "[2] The condition number is large, 7.46e+03. This might indicate that there are\n",
      "strong multicollinearity or other numerical problems.\n"
     ]
    }
   ],
   "source": [
    "OLS2 = sm.OLS(Y2, X2)\n",
    "\n",
    "OLS2 = OLS2.fit()\n",
    "print(OLS2.summary())"
   ]
  },
  {
   "cell_type": "markdown",
   "metadata": {},
   "source": [
    "## standardize all variables and re-estimate the model"
   ]
  },
  {
   "cell_type": "code",
   "execution_count": 30,
   "metadata": {},
   "outputs": [],
   "source": [
    "X2_st = data2[['sqrmtr', 'lotsize', 'bdrms']]\n",
    "X2_st = (X2_st - X2_st.mean()) / X2_st.std()\n",
    "X2_st = sm.add_constant(X2_st)\n",
    "\n",
    "Y2_st = data2[['price']]\n",
    "Y2_st = (Y2_st - Y2_st.mean()) / Y2_st.std()"
   ]
  },
  {
   "cell_type": "code",
   "execution_count": 31,
   "metadata": {},
   "outputs": [
    {
     "name": "stdout",
     "output_type": "stream",
     "text": [
      "                            OLS Regression Results                            \n",
      "==============================================================================\n",
      "Dep. Variable:                  price   R-squared:                       0.637\n",
      "Model:                            OLS   Adj. R-squared:                  0.627\n",
      "Method:                 Least Squares   F-statistic:                     66.59\n",
      "Date:                Mon, 24 Aug 2020   Prob (F-statistic):           5.96e-25\n",
      "Time:                        16:32:21   Log-Likelihood:                -107.20\n",
      "No. Observations:                 118   AIC:                             222.4\n",
      "Df Residuals:                     114   BIC:                             233.5\n",
      "Df Model:                           3                                         \n",
      "Covariance Type:            nonrobust                                         \n",
      "==============================================================================\n",
      "                 coef    std err          t      P>|t|      [0.025      0.975]\n",
      "------------------------------------------------------------------------------\n",
      "const       4.163e-17      0.056   7.41e-16      1.000      -0.111       0.111\n",
      "sqrmtr         0.6662      0.065     10.196      0.000       0.537       0.796\n",
      "lotsize        0.2209      0.058      3.839      0.000       0.107       0.335\n",
      "bdrms          0.1091      0.065      1.691      0.094      -0.019       0.237\n",
      "==============================================================================\n",
      "Omnibus:                       37.822   Durbin-Watson:                   1.920\n",
      "Prob(Omnibus):                  0.000   Jarque-Bera (JB):               96.347\n",
      "Skew:                           1.210   Prob(JB):                     1.20e-21\n",
      "Kurtosis:                       6.707   Cond. No.                         1.75\n",
      "==============================================================================\n",
      "\n",
      "Warnings:\n",
      "[1] Standard Errors assume that the covariance matrix of the errors is correctly specified.\n"
     ]
    }
   ],
   "source": [
    "OLS2_st = sm.OLS(Y2_st, X2_st)\n",
    "\n",
    "OLS2_st = OLS2_st.fit()\n",
    "print(OLS2_st.summary())"
   ]
  },
  {
   "cell_type": "markdown",
   "metadata": {},
   "source": [
    "## predict the price of a house with $sqrmtr = 280, lotsize = 776, bdrms = 6$"
   ]
  },
  {
   "cell_type": "code",
   "execution_count": 32,
   "metadata": {},
   "outputs": [
    {
     "data": {
      "text/plain": [
       "array([365844.99255784])"
      ]
     },
     "execution_count": 32,
     "metadata": {},
     "output_type": "execute_result"
    }
   ],
   "source": [
    "OLS2.predict([1, 280, 766, 6])"
   ]
  },
  {
   "cell_type": "markdown",
   "metadata": {},
   "source": [
    "## if the actual price is 320000, compute the prediction error of the house with $sqrmtr = 280, lotsize = 776, bdrms = 6$ "
   ]
  },
  {
   "cell_type": "code",
   "execution_count": 33,
   "metadata": {},
   "outputs": [
    {
     "data": {
      "text/plain": [
       "array([-45844.99255784])"
      ]
     },
     "execution_count": 33,
     "metadata": {},
     "output_type": "execute_result"
    }
   ],
   "source": [
    "320000 - OLS2.predict([1, 280, 766, 6])"
   ]
  },
  {
   "cell_type": "code",
   "execution_count": null,
   "metadata": {},
   "outputs": [],
   "source": []
  }
 ],
 "metadata": {
  "kernelspec": {
   "display_name": "Python 3",
   "language": "python",
   "name": "python3"
  },
  "language_info": {
   "codemirror_mode": {
    "name": "ipython",
    "version": 3
   },
   "file_extension": ".py",
   "mimetype": "text/x-python",
   "name": "python",
   "nbconvert_exporter": "python",
   "pygments_lexer": "ipython3",
   "version": "3.7.6"
  }
 },
 "nbformat": 4,
 "nbformat_minor": 4
}
